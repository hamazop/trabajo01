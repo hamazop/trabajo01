{
 "cells": [
  {
   "cell_type": "markdown",
   "metadata": {},
   "source": [
    "# Funciones selecionadas\n",
    "\n",
    "Se usarán las funciones de Rosenbrock y de Seis Jorobas.\n",
    "\n",
    "Para la primera parte se plantea usar optimizar por el método descenso del gradiente que indica que un punto $A_{n+1} = A_n + ∇f(A_n)$ Es descrito por un punto inicial $A_n$ definido como condición inicial y $∇f(A_n)$ que es el descenso del gradiente de la función evaluado en $A_n$\n",
    "\n",
    "Las funciones respectivamente son.\\\n",
    "### Rosenbrock\n",
    "\\begin{equation}\n",
    "f(x) = \\sum_{i=1}^{n-1} [100(x_{i+1}-x_i^2)+(1-x_i)^2]\n",
    "\\end{equation}\n",
    "\n",
    "### Rastrigin\n",
    "\\begin{equation}\n",
    "f(x) = 10n + \\sum_{i=1}^n \\left[ x_i^2-10cos(2\\pi x_i) \\right]\n",
    "\\end{equation}\\\n",
    "Donde $n$ son sus dimensiones y $x=(x_1,..., x_n)\\in \\mathbb{R}^N$ es un punto real en su n-ésima"
   ]
  },
  {
   "cell_type": "code",
   "execution_count": null,
   "metadata": {},
   "outputs": [
    {
     "name": "stdout",
     "output_type": "stream",
     "text": [
      "Requirement already satisfied: deap in c:\\users\\juan1\\appdata\\local\\programs\\python\\python312\\lib\\site-packages (1.4.1)\n",
      "Requirement already satisfied: numpy in c:\\users\\juan1\\appdata\\local\\programs\\python\\python312\\lib\\site-packages (from deap) (1.26.4)\n"
     ]
    },
    {
     "name": "stderr",
     "output_type": "stream",
     "text": [
      "\n",
      "[notice] A new release of pip is available: 24.1.2 -> 24.3.1\n",
      "[notice] To update, run: python.exe -m pip install --upgrade pip\n"
     ]
    },
    {
     "name": "stdout",
     "output_type": "stream",
     "text": [
      "Requirement already satisfied: pyswarms in c:\\users\\juan1\\appdata\\local\\programs\\python\\python312\\lib\\site-packages (1.3.0)\n",
      "Requirement already satisfied: scipy in c:\\users\\juan1\\appdata\\local\\programs\\python\\python312\\lib\\site-packages (from pyswarms) (1.14.0)\n",
      "Requirement already satisfied: numpy in c:\\users\\juan1\\appdata\\local\\programs\\python\\python312\\lib\\site-packages (from pyswarms) (1.26.4)\n",
      "Requirement already satisfied: matplotlib>=1.3.1 in c:\\users\\juan1\\appdata\\local\\programs\\python\\python312\\lib\\site-packages (from pyswarms) (3.9.0)\n",
      "Requirement already satisfied: attrs in c:\\users\\juan1\\appdata\\local\\programs\\python\\python312\\lib\\site-packages (from pyswarms) (24.2.0)\n",
      "Requirement already satisfied: tqdm in c:\\users\\juan1\\appdata\\local\\programs\\python\\python312\\lib\\site-packages (from pyswarms) (4.67.1)\n",
      "Requirement already satisfied: future in c:\\users\\juan1\\appdata\\local\\programs\\python\\python312\\lib\\site-packages (from pyswarms) (1.0.0)\n",
      "Requirement already satisfied: pyyaml in c:\\users\\juan1\\appdata\\local\\programs\\python\\python312\\lib\\site-packages (from pyswarms) (6.0.2)\n",
      "Requirement already satisfied: contourpy>=1.0.1 in c:\\users\\juan1\\appdata\\local\\programs\\python\\python312\\lib\\site-packages (from matplotlib>=1.3.1->pyswarms) (1.2.1)\n",
      "Requirement already satisfied: cycler>=0.10 in c:\\users\\juan1\\appdata\\local\\programs\\python\\python312\\lib\\site-packages (from matplotlib>=1.3.1->pyswarms) (0.12.1)\n",
      "Requirement already satisfied: fonttools>=4.22.0 in c:\\users\\juan1\\appdata\\local\\programs\\python\\python312\\lib\\site-packages (from matplotlib>=1.3.1->pyswarms) (4.53.0)\n",
      "Requirement already satisfied: kiwisolver>=1.3.1 in c:\\users\\juan1\\appdata\\local\\programs\\python\\python312\\lib\\site-packages (from matplotlib>=1.3.1->pyswarms) (1.4.5)\n",
      "Requirement already satisfied: packaging>=20.0 in c:\\users\\juan1\\appdata\\local\\programs\\python\\python312\\lib\\site-packages (from matplotlib>=1.3.1->pyswarms) (24.1)\n",
      "Requirement already satisfied: pillow>=8 in c:\\users\\juan1\\appdata\\local\\programs\\python\\python312\\lib\\site-packages (from matplotlib>=1.3.1->pyswarms) (10.3.0)\n",
      "Requirement already satisfied: pyparsing>=2.3.1 in c:\\users\\juan1\\appdata\\local\\programs\\python\\python312\\lib\\site-packages (from matplotlib>=1.3.1->pyswarms) (3.1.2)\n",
      "Requirement already satisfied: python-dateutil>=2.7 in c:\\users\\juan1\\appdata\\local\\programs\\python\\python312\\lib\\site-packages (from matplotlib>=1.3.1->pyswarms) (2.9.0.post0)\n",
      "Requirement already satisfied: colorama in c:\\users\\juan1\\appdata\\roaming\\python\\python312\\site-packages (from tqdm->pyswarms) (0.4.6)\n",
      "Requirement already satisfied: six>=1.5 in c:\\users\\juan1\\appdata\\local\\programs\\python\\python312\\lib\\site-packages (from python-dateutil>=2.7->matplotlib>=1.3.1->pyswarms) (1.16.0)\n"
     ]
    },
    {
     "name": "stderr",
     "output_type": "stream",
     "text": [
      "\n",
      "[notice] A new release of pip is available: 24.1.2 -> 24.3.1\n",
      "[notice] To update, run: python.exe -m pip install --upgrade pip\n"
     ]
    },
    {
     "name": "stdout",
     "output_type": "stream",
     "text": [
      "Requirement already satisfied: scipy in c:\\users\\juan1\\appdata\\local\\programs\\python\\python312\\lib\\site-packages (1.14.0)\n",
      "Requirement already satisfied: numpy<2.3,>=1.23.5 in c:\\users\\juan1\\appdata\\local\\programs\\python\\python312\\lib\\site-packages (from scipy) (1.26.4)\n"
     ]
    },
    {
     "name": "stderr",
     "output_type": "stream",
     "text": [
      "\n",
      "[notice] A new release of pip is available: 24.1.2 -> 24.3.1\n",
      "[notice] To update, run: python.exe -m pip install --upgrade pip\n"
     ]
    },
    {
     "name": "stdout",
     "output_type": "stream",
     "text": [
      "Requirement already satisfied: pillow in c:\\users\\juan1\\appdata\\local\\programs\\python\\python312\\lib\\site-packages (10.3.0)\n"
     ]
    },
    {
     "name": "stderr",
     "output_type": "stream",
     "text": [
      "\n",
      "[notice] A new release of pip is available: 24.1.2 -> 24.3.1\n",
      "[notice] To update, run: python.exe -m pip install --upgrade pip\n"
     ]
    }
   ],
   "source": [
    "!pip install deap\n",
    "!pip install pyswarms\n",
    "!pip install scipy\n",
    "!pip install pillow"
   ]
  },
  {
   "cell_type": "markdown",
   "metadata": {},
   "source": [
    "## Función de Rosenbrock"
   ]
  },
  {
   "cell_type": "code",
   "execution_count": null,
   "metadata": {},
   "outputs": [],
   "source": [
    "import numpy as np\n",
    "from scipy.optimize import differential_evolution\n",
    "import pyswarms as ps\n",
    "from deap import base, creator, tools, algorithms\n",
    "\n",
    "# Función de Rosenbrock general (no vectorizada)\n",
    "def rosenbrock(xx):\n",
    "    d = len(xx)\n",
    "    total = 0\n",
    "    for i in range(d - 1):\n",
    "        xi = xx[i]\n",
    "        xnext = xx[i + 1]\n",
    "        new = 100 * (xnext - xi ** 2) ** 2 + (xi - 1) ** 2\n",
    "        total += new\n",
    "    return total\n",
    "\n",
    "# Función de Rosenbrock adaptada para PSO (vectorizada)\n",
    "def rosenbrock_pso(X):\n",
    "    # X es un array de forma (n_particles, dimensions)\n",
    "    X = np.atleast_2d(X)\n",
    "    X_shifted = X[:, 1:]\n",
    "    X_current = X[:, :-1]\n",
    "    return np.sum(100 * (X_shifted - X_current ** 2) ** 2 + (X_current - 1) ** 2, axis=1)\n"
   ]
  },
  {
   "cell_type": "markdown",
   "metadata": {},
   "source": [
    "## Función de Rastrigin"
   ]
  }
 ],
 "metadata": {
  "language_info": {
   "name": "python"
  }
 },
 "nbformat": 4,
 "nbformat_minor": 2
}
